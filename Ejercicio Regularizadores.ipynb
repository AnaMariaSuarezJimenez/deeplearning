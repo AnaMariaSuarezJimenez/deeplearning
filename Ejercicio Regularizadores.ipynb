{
  "nbformat": 4,
  "nbformat_minor": 0,
  "metadata": {
    "kernelspec": {
      "display_name": "Python 3",
      "language": "python",
      "name": "python3"
    },
    "language_info": {
      "codemirror_mode": {
        "name": "ipython",
        "version": 3
      },
      "file_extension": ".py",
      "mimetype": "text/x-python",
      "name": "python",
      "nbconvert_exporter": "python",
      "pygments_lexer": "ipython3",
      "version": "3.8.5"
    },
    "colab": {
      "name": "2_1_Un_primer_vistazo_a_una_Red_Neuronal.ipynb",
      "provenance": [],
      "include_colab_link": true
    },
    "accelerator": "GPU",
    "gpuClass": "standard"
  },
  "cells": [
    {
      "cell_type": "markdown",
      "metadata": {
        "id": "view-in-github",
        "colab_type": "text"
      },
      "source": [
        "<a href=\"https://colab.research.google.com/github/AnaMariaSuarezJimenez/deeplearning/blob/main/Ejercicio%20Regularizadores.ipynb\" target=\"_parent\"><img src=\"https://colab.research.google.com/assets/colab-badge.svg\" alt=\"Open In Colab\"/></a>"
      ]
    },
    {
      "cell_type": "markdown",
      "metadata": {
        "id": "Ejg7Msp7rbkk"
      },
      "source": [
        "# Ejercicio con regularizadores"
      ]
    },
    {
      "cell_type": "code",
      "source": [
        "%tensorflow_version 2.x\n",
        "import tensorflow as tf\n",
        "from tensorflow import keras\n",
        "print(tf.keras.__version__)\n",
        "print(\"GPU Available:\", tf.config.list_physical_devices('GPU'))\n",
        "print(tf.__version__)\n",
        "from keras.datasets import mnist\n",
        "from keras import models\n",
        "from keras import layers\n",
        "import numpy as np\n",
        "import matplotlib.pyplot as plt\n",
        "from keras import regularizers"
      ],
      "metadata": {
        "id": "BSivef1i532C",
        "colab": {
          "base_uri": "https://localhost:8080/"
        },
        "outputId": "9a032cee-fd28-47d7-b5bf-67afd0604fca"
      },
      "execution_count": 2,
      "outputs": [
        {
          "output_type": "stream",
          "name": "stdout",
          "text": [
            "Colab only includes TensorFlow 2.x; %tensorflow_version has no effect.\n",
            "2.9.0\n",
            "GPU Available: [PhysicalDevice(name='/physical_device:GPU:0', device_type='GPU')]\n",
            "2.9.2\n"
          ]
        }
      ]
    },
    {
      "cell_type": "code",
      "source": [
        "# Descarga los datos de MNIST\n",
        "from keras.datasets import mnist\n",
        "\n",
        "(train_images, train_labels), (test_images, test_labels) = mnist.load_data()\n"
      ],
      "metadata": {
        "id": "3t3R6gU9-wUy",
        "colab": {
          "base_uri": "https://localhost:8080/"
        },
        "outputId": "c16b601d-a802-4a84-f940-15b127893267"
      },
      "execution_count": 3,
      "outputs": [
        {
          "output_type": "stream",
          "name": "stdout",
          "text": [
            "Downloading data from https://storage.googleapis.com/tensorflow/tf-keras-datasets/mnist.npz\n",
            "11490434/11490434 [==============================] - 0s 0us/step\n"
          ]
        }
      ]
    },
    {
      "cell_type": "code",
      "source": [
        "len(train_labels) "
      ],
      "metadata": {
        "colab": {
          "base_uri": "https://localhost:8080/"
        },
        "id": "Dx4RprTHkfAe",
        "outputId": "c06522ef-e4fe-454a-ef33-005fa474eb09"
      },
      "execution_count": 4,
      "outputs": [
        {
          "output_type": "execute_result",
          "data": {
            "text/plain": [
              "60000"
            ]
          },
          "metadata": {},
          "execution_count": 4
        }
      ]
    },
    {
      "cell_type": "code",
      "source": [
        "len(test_labels)"
      ],
      "metadata": {
        "colab": {
          "base_uri": "https://localhost:8080/"
        },
        "id": "G-1-f-gbkhEJ",
        "outputId": "5ae10888-2f7f-43b7-daa0-180e6887073c"
      },
      "execution_count": 5,
      "outputs": [
        {
          "output_type": "execute_result",
          "data": {
            "text/plain": [
              "10000"
            ]
          },
          "metadata": {},
          "execution_count": 5
        }
      ]
    },
    {
      "cell_type": "code",
      "source": [
        "# Prepara con reshape y normaliza las imágenes tanto de entrenamiento como de test\n",
        "train_images =train_images.reshape(60000,28*28)\n",
        "test_images=test_images.reshape(10000,28*28)\n",
        "#Normalizmos los datos de test y de entranimento \n",
        "train_images = train_images.astype('float32') / 255\n",
        "test_images  = test_images.astype('float32') / 255"
      ],
      "metadata": {
        "id": "H6n5NeSz0U1d"
      },
      "execution_count": 6,
      "outputs": []
    },
    {
      "cell_type": "code",
      "source": [
        "# Crear un subconjunto de imágenes de entrenamiento que llamaré\n",
        "# validation_images, para hacer las validaciones, con las 10000 últimas imágenes \n",
        "# del set de datos de entrenamiento (train_images) (obviamente, lo mismo con las\n",
        "# etiquetas correspondientes -> validation_labels). Deja preparadas las 50K \n",
        "# primeras imágenes y etiquetas para entrenamiento (train_images y train_labels)\n",
        "\n",
        "validation_images=train_images[50000:]\n",
        "train_images=train_images[:49999]\n",
        "validation_labels=train_labels[50000:]\n",
        "train_labels=train_labels[:49999]"
      ],
      "metadata": {
        "id": "NKoZGyap0XAj"
      },
      "execution_count": 7,
      "outputs": []
    },
    {
      "cell_type": "code",
      "source": [
        "def crea_modelo(regularizador):\n",
        "  # Define una función que recibe un número del 0 al 4 que creará:\n",
        "  # un modelo secuencial con una capa de entrada densa de 512 neuronas\n",
        "  # con activación relu y la capa de salida que le corresponda según el problema\n",
        "  # Ahora, en función del número del regularizador:\n",
        "  # Si es 0, no mete ningún regularizador\n",
        "  # Si es 1, mete un regularizador de tipo l1 y valor 0.001\n",
        "  # Si es 2, mete un regularizador de tipo l2 y valor 0.001\n",
        "  # Si es 3, mete un regularizador de tipo l1_l2 y valor 0.001 para ambos\n",
        "  # Si es 4, mete un Dropout del 50% después de la primera capa densa\n",
        "  # Si es distinto que estos valores, escribe el error y retorna\n",
        "  # Al final, esta función pinta el summary del modelo y retorna el modelo crea\n",
        "  \n",
        "   \n",
        "\n",
        "    modelo = models.Sequential()\n",
        "    \n",
        "    if regularizador==0:\n",
        "       modelo.add(layers.Dense(512, activation='relu', input_shape=(28*28,)))\n",
        "       modelo.add(layers.Dense(10, activation='softmax'))\n",
        "       modelo.summary()\n",
        "    elif regularizador==1:\n",
        "       modelo.add(layers.Dense(512, kernel_regularizer=regularizers.l1(0.001), activation='relu',\n",
        "                           input_shape=(28*28,)))\n",
        "       modelo.add(layers.Dense(10, activation='softmax'))\n",
        "       modelo.summary()\n",
        "    elif regularizador==2:\n",
        "      modelo.add(layers.Dense(512, kernel_regularizer=regularizers.l2(0.001), activation='relu',\n",
        "                           input_shape=(28*28,)))\n",
        "      modelo.add(layers.Dense(10, activation='softmax'))\n",
        "      modelo.summary()\n",
        "    elif regularizador==3:\n",
        "      modelo.add(layers.Dense(512, kernel_regularizer=regularizers.l1_l2(l1=0.001, l2=0.002), activation='relu',\n",
        "                           input_shape=(28*28,)))\n",
        "      modelo.add(layers.Dense(10, activation='softmax'))\n",
        "      modelo.summary()\n",
        "    elif regularizador==4:\n",
        "      modelo.add(layers.Dense(512, activation='relu', input_shape=(28*28,)))\n",
        "      modelo.add(layers.Dropout(0.5))\n",
        "      modelo.add(layers.Dense(10, activation='softmax'))\n",
        "      modelo.summary()\n",
        "    else:\n",
        "      print('Error no es ninguno de estos valores \\n ')\n",
        "     \n",
        "\n",
        "    return modelo"
      ],
      "metadata": {
        "id": "6JnVLVfsAfkh"
      },
      "execution_count": 32,
      "outputs": []
    },
    {
      "cell_type": "code",
      "source": [
        "  def compila_modelo(modelo): \n",
        "  # Define una función que recibe un modelo, lo compila con un optimizador\n",
        "  # 'rmsprop', con una función de pérdida 'sparse_categorical_crossentropy' y\n",
        "  # una métrica de precisión. La función retorna el modelo\n",
        "  \n",
        "    modelo.compile(optimizer='rmsprop', \n",
        "                loss='sparse_categorical_crossentropy',\n",
        "                metrics=['accuracy'])\n",
        "    return modelo\n",
        "    "
      ],
      "metadata": {
        "id": "qKyJ8KOT0aFt"
      },
      "execution_count": 9,
      "outputs": []
    },
    {
      "cell_type": "code",
      "source": [
        "def entrena_modelo(modelo):\n",
        "  # Define una función que entrena el modelo que se le pasa por parámetro,\n",
        "  # con las imágenes y etiquetas de entrenamiento, con 30 iteraciones y 128\n",
        "  # de tamaño de minilote y con el validation_data creado más arriba.\n",
        "  # Esta función devuelve un history\n",
        "   historia0=modelo.fit(train_images, train_labels, epochs=30, batch_size=128,validation_data=(validation_images,validation_labels))\n",
        "   return historia0"
      ],
      "metadata": {
        "id": "_yQ7SpOt0cBp"
      },
      "execution_count": 10,
      "outputs": []
    },
    {
      "cell_type": "code",
      "source": [
        "def pinta_perdida_entrenamiento_validacion(historia):\n",
        "  history_dict = historia.history\n",
        "  acc = historia.history['accuracy']\n",
        "  val_acc = historia.history['val_accuracy']\n",
        "  loss = historia.history['loss']\n",
        "  val_loss = historia.history['val_loss']\n",
        "  epochs = range(1, len(acc) + 1)\n",
        "  # \"bo\" es para \"punto azun\"\n",
        "  plt.plot(epochs, loss, 'bo', label='Pérdida de Entrenamiento')\n",
        "  # \"b\" es para \"linea continua azul\"\n",
        "  plt.plot(epochs, val_loss, 'b', label='Pérdida de Validación')\n",
        "  plt.title('Pérdida de Entrenamiento y Validación')\n",
        "  plt.xlabel('Epochs')\n",
        "  plt.ylabel('Loss')\n",
        "  plt.legend()\n",
        "  plt.show()"
      ],
      "metadata": {
        "id": "bJrRNc4WwPN2"
      },
      "execution_count": 11,
      "outputs": []
    },
    {
      "cell_type": "code",
      "source": [
        "def pinta_precision_entrenamiento_validacion(historia):\n",
        "  history_dict = historia.history\n",
        "  acc = historia.history['accuracy']\n",
        "  val_acc = historia.history['val_accuracy']\n",
        "  loss = historia.history['loss']\n",
        "  val_loss = historia.history['val_loss']\n",
        "  plt.clf()   # Limpia la figura\n",
        "  acc_values = history_dict['accuracy']\n",
        "  val_acc_values = history_dict['val_accuracy']\n",
        "  epochs = range(1, len(acc) + 1)\n",
        "  plt.plot(epochs, acc, 'bo', label='Precisión de Entrenamiento')\n",
        "  plt.plot(epochs, val_acc, 'b', label='Precisión de Validación')\n",
        "  plt.title('Precisión de Entrenamiento y Valización')\n",
        "  plt.xlabel('Epochs')\n",
        "  plt.ylabel('Loss')\n",
        "  plt.legend()\n",
        "  plt.show()"
      ],
      "metadata": {
        "id": "Mafxp6D3wYQx"
      },
      "execution_count": 12,
      "outputs": []
    },
    {
      "cell_type": "markdown",
      "source": [
        "## Una vez definidas todas las funciones anteriores, ejecuta las siguientes llamadas a dichas funciones y deduce que está pasando y, para este contexto, que es lo que mejor está funcionando"
      ],
      "metadata": {
        "id": "6nnQYysYA3_T"
      }
    },
    {
      "cell_type": "markdown",
      "source": [
        "### Caso 0, sin regularizadores"
      ],
      "metadata": {
        "id": "OrGwDgaFBax4"
      }
    },
    {
      "cell_type": "code",
      "source": [
        "network0 = crea_modelo(0)"
      ],
      "metadata": {
        "id": "uXvhlXg79Zi9",
        "colab": {
          "base_uri": "https://localhost:8080/"
        },
        "outputId": "2ba4b7fa-86ce-4507-f9ba-e518087b96c6"
      },
      "execution_count": 13,
      "outputs": [
        {
          "output_type": "stream",
          "name": "stdout",
          "text": [
            "Model: \"sequential\"\n",
            "_________________________________________________________________\n",
            " Layer (type)                Output Shape              Param #   \n",
            "=================================================================\n",
            " dense (Dense)               (None, 512)               401920    \n",
            "                                                                 \n",
            " dense_1 (Dense)             (None, 10)                5130      \n",
            "                                                                 \n",
            "=================================================================\n",
            "Total params: 407,050\n",
            "Trainable params: 407,050\n",
            "Non-trainable params: 0\n",
            "_________________________________________________________________\n"
          ]
        }
      ]
    },
    {
      "cell_type": "code",
      "source": [
        "network0 = compila_modelo(network0)"
      ],
      "metadata": {
        "id": "Ff0HC3NR9ez8"
      },
      "execution_count": 14,
      "outputs": []
    },
    {
      "cell_type": "code",
      "source": [
        "historia0 = entrena_modelo(network0)"
      ],
      "metadata": {
        "id": "x9zQDOlw9g6V",
        "colab": {
          "base_uri": "https://localhost:8080/"
        },
        "outputId": "ffb6c9c7-700c-48a1-cd34-7c9e2400215e"
      },
      "execution_count": 15,
      "outputs": [
        {
          "output_type": "stream",
          "name": "stdout",
          "text": [
            "Epoch 1/30\n",
            "391/391 [==============================] - 7s 8ms/step - loss: 0.2864 - accuracy: 0.9160 - val_loss: 0.1476 - val_accuracy: 0.9583\n",
            "Epoch 2/30\n",
            "391/391 [==============================] - 2s 4ms/step - loss: 0.1175 - accuracy: 0.9651 - val_loss: 0.1047 - val_accuracy: 0.9670\n",
            "Epoch 3/30\n",
            "391/391 [==============================] - 1s 3ms/step - loss: 0.0770 - accuracy: 0.9775 - val_loss: 0.0977 - val_accuracy: 0.9710\n",
            "Epoch 4/30\n",
            "391/391 [==============================] - 2s 5ms/step - loss: 0.0556 - accuracy: 0.9834 - val_loss: 0.0786 - val_accuracy: 0.9774\n",
            "Epoch 5/30\n",
            "391/391 [==============================] - 2s 6ms/step - loss: 0.0413 - accuracy: 0.9882 - val_loss: 0.0794 - val_accuracy: 0.9770\n",
            "Epoch 6/30\n",
            "391/391 [==============================] - 2s 6ms/step - loss: 0.0311 - accuracy: 0.9913 - val_loss: 0.0903 - val_accuracy: 0.9750\n",
            "Epoch 7/30\n",
            "391/391 [==============================] - 2s 6ms/step - loss: 0.0233 - accuracy: 0.9930 - val_loss: 0.0897 - val_accuracy: 0.9748\n",
            "Epoch 8/30\n",
            "391/391 [==============================] - 2s 6ms/step - loss: 0.0180 - accuracy: 0.9946 - val_loss: 0.0747 - val_accuracy: 0.9819\n",
            "Epoch 9/30\n",
            "391/391 [==============================] - 2s 6ms/step - loss: 0.0138 - accuracy: 0.9962 - val_loss: 0.0829 - val_accuracy: 0.9791\n",
            "Epoch 10/30\n",
            "391/391 [==============================] - 1s 3ms/step - loss: 0.0103 - accuracy: 0.9975 - val_loss: 0.0840 - val_accuracy: 0.9796\n",
            "Epoch 11/30\n",
            "391/391 [==============================] - 1s 3ms/step - loss: 0.0078 - accuracy: 0.9979 - val_loss: 0.0981 - val_accuracy: 0.9796\n",
            "Epoch 12/30\n",
            "391/391 [==============================] - 1s 3ms/step - loss: 0.0063 - accuracy: 0.9986 - val_loss: 0.0877 - val_accuracy: 0.9798\n",
            "Epoch 13/30\n",
            "391/391 [==============================] - 1s 4ms/step - loss: 0.0046 - accuracy: 0.9988 - val_loss: 0.0856 - val_accuracy: 0.9825\n",
            "Epoch 14/30\n",
            "391/391 [==============================] - 1s 3ms/step - loss: 0.0035 - accuracy: 0.9993 - val_loss: 0.0973 - val_accuracy: 0.9817\n",
            "Epoch 15/30\n",
            "391/391 [==============================] - 2s 4ms/step - loss: 0.0029 - accuracy: 0.9992 - val_loss: 0.0985 - val_accuracy: 0.9805\n",
            "Epoch 16/30\n",
            "391/391 [==============================] - 1s 4ms/step - loss: 0.0023 - accuracy: 0.9993 - val_loss: 0.1009 - val_accuracy: 0.9818\n",
            "Epoch 17/30\n",
            "391/391 [==============================] - 1s 3ms/step - loss: 0.0017 - accuracy: 0.9995 - val_loss: 0.1015 - val_accuracy: 0.9821\n",
            "Epoch 18/30\n",
            "391/391 [==============================] - 1s 3ms/step - loss: 0.0013 - accuracy: 0.9996 - val_loss: 0.1109 - val_accuracy: 0.9810\n",
            "Epoch 19/30\n",
            "391/391 [==============================] - 1s 3ms/step - loss: 8.7833e-04 - accuracy: 0.9999 - val_loss: 0.1062 - val_accuracy: 0.9832\n",
            "Epoch 20/30\n",
            "391/391 [==============================] - 1s 3ms/step - loss: 7.0466e-04 - accuracy: 0.9998 - val_loss: 0.1197 - val_accuracy: 0.9804\n",
            "Epoch 21/30\n",
            "391/391 [==============================] - 1s 4ms/step - loss: 5.7516e-04 - accuracy: 0.9998 - val_loss: 0.1123 - val_accuracy: 0.9818\n",
            "Epoch 22/30\n",
            "391/391 [==============================] - 1s 4ms/step - loss: 4.4196e-04 - accuracy: 0.9999 - val_loss: 0.1234 - val_accuracy: 0.9822\n",
            "Epoch 23/30\n",
            "391/391 [==============================] - 1s 4ms/step - loss: 4.7036e-04 - accuracy: 0.9998 - val_loss: 0.1258 - val_accuracy: 0.9805\n",
            "Epoch 24/30\n",
            "391/391 [==============================] - 1s 3ms/step - loss: 3.6769e-04 - accuracy: 0.9999 - val_loss: 0.1353 - val_accuracy: 0.9801\n",
            "Epoch 25/30\n",
            "391/391 [==============================] - 1s 4ms/step - loss: 3.1654e-04 - accuracy: 0.9999 - val_loss: 0.1290 - val_accuracy: 0.9822\n",
            "Epoch 26/30\n",
            "391/391 [==============================] - 1s 3ms/step - loss: 2.5531e-04 - accuracy: 0.9999 - val_loss: 0.1303 - val_accuracy: 0.9821\n",
            "Epoch 27/30\n",
            "391/391 [==============================] - 1s 3ms/step - loss: 2.2533e-04 - accuracy: 1.0000 - val_loss: 0.1409 - val_accuracy: 0.9827\n",
            "Epoch 28/30\n",
            "391/391 [==============================] - 1s 3ms/step - loss: 1.8773e-04 - accuracy: 0.9999 - val_loss: 0.1442 - val_accuracy: 0.9824\n",
            "Epoch 29/30\n",
            "391/391 [==============================] - 1s 4ms/step - loss: 1.9202e-04 - accuracy: 0.9999 - val_loss: 0.1408 - val_accuracy: 0.9823\n",
            "Epoch 30/30\n",
            "391/391 [==============================] - 1s 3ms/step - loss: 9.1075e-05 - accuracy: 0.9999 - val_loss: 0.1387 - val_accuracy: 0.9820\n"
          ]
        }
      ]
    },
    {
      "cell_type": "code",
      "source": [
        "pinta_perdida_entrenamiento_validacion(historia0)"
      ],
      "metadata": {
        "id": "OvhDZvS8-0mG",
        "colab": {
          "base_uri": "https://localhost:8080/",
          "height": 295
        },
        "outputId": "bfbde299-3d93-438e-edcf-75736df0c2c6"
      },
      "execution_count": 16,
      "outputs": [
        {
          "output_type": "display_data",
          "data": {
            "text/plain": [
              "<Figure size 432x288 with 1 Axes>"
            ],
            "image/png": "[encoded data removed]"
          },
          "metadata": {
            "needs_background": "light"
          }
        }
      ]
    },
    {
      "cell_type": "code",
      "source": [
        "pinta_precision_entrenamiento_validacion(historia0)"
      ],
      "metadata": {
        "id": "UuiL2CCH_fGN",
        "colab": {
          "base_uri": "https://localhost:8080/",
          "height": 295
        },
        "outputId": "b4dff12a-ed66-45cd-c0f7-45a9ab383ff0"
      },
      "execution_count": 17,
      "outputs": [
        {
          "output_type": "display_data",
          "data": {
            "text/plain": [
              "<Figure size 432x288 with 1 Axes>"
            ],
            "image/png": "[encoded data removed]"
          },
          "metadata": {
            "needs_background": "light"
          }
        }
      ]
    },
    {
      "cell_type": "markdown",
      "source": [
        "### Caso 1: Con regularizador l1"
      ],
      "metadata": {
        "id": "pw6iBGO5Bg8J"
      }
    },
    {
      "cell_type": "code",
      "source": [
        "network1 = crea_modelo(1)"
      ],
      "metadata": {
        "id": "D6JPtw5zCz-1",
        "colab": {
          "base_uri": "https://localhost:8080/"
        },
        "outputId": "66c2c515-1096-420f-952f-34b4998fab87"
      },
      "execution_count": 18,
      "outputs": [
        {
          "output_type": "stream",
          "name": "stdout",
          "text": [
            "Model: \"sequential_1\"\n",
            "_________________________________________________________________\n",
            " Layer (type)                Output Shape              Param #   \n",
            "=================================================================\n",
            " dense_2 (Dense)             (None, 512)               401920    \n",
            "                                                                 \n",
            " dense_3 (Dense)             (None, 10)                5130      \n",
            "                                                                 \n",
            "=================================================================\n",
            "Total params: 407,050\n",
            "Trainable params: 407,050\n",
            "Non-trainable params: 0\n",
            "_________________________________________________________________\n"
          ]
        }
      ]
    },
    {
      "cell_type": "code",
      "source": [
        "network1 = compila_modelo(network1)"
      ],
      "metadata": {
        "id": "zL3Gp7wvFRq3"
      },
      "execution_count": 19,
      "outputs": []
    },
    {
      "cell_type": "code",
      "source": [
        "historia1 = entrena_modelo(network1)"
      ],
      "metadata": {
        "id": "G2FG1Z4xFW72",
        "colab": {
          "base_uri": "https://localhost:8080/"
        },
        "outputId": "e56a756b-cec1-44af-9d75-4d7294019f32"
      },
      "execution_count": 20,
      "outputs": [
        {
          "output_type": "stream",
          "name": "stdout",
          "text": [
            "Epoch 1/30\n",
            "391/391 [==============================] - 2s 4ms/step - loss: 2.1553 - accuracy: 0.8440 - val_loss: 0.9861 - val_accuracy: 0.8979\n",
            "Epoch 2/30\n",
            "391/391 [==============================] - 1s 3ms/step - loss: 0.9709 - accuracy: 0.8761 - val_loss: 0.8882 - val_accuracy: 0.8962\n",
            "Epoch 3/30\n",
            "391/391 [==============================] - 1s 4ms/step - loss: 0.8395 - accuracy: 0.9021 - val_loss: 0.7813 - val_accuracy: 0.9153\n",
            "Epoch 4/30\n",
            "391/391 [==============================] - 1s 3ms/step - loss: 0.7634 - accuracy: 0.9154 - val_loss: 0.7129 - val_accuracy: 0.9320\n",
            "Epoch 5/30\n",
            "391/391 [==============================] - 1s 3ms/step - loss: 0.7105 - accuracy: 0.9248 - val_loss: 0.6581 - val_accuracy: 0.9390\n",
            "Epoch 6/30\n",
            "391/391 [==============================] - 1s 3ms/step - loss: 0.6727 - accuracy: 0.9309 - val_loss: 0.6500 - val_accuracy: 0.9369\n",
            "Epoch 7/30\n",
            "391/391 [==============================] - 1s 3ms/step - loss: 0.6436 - accuracy: 0.9359 - val_loss: 0.6443 - val_accuracy: 0.9334\n",
            "Epoch 8/30\n",
            "391/391 [==============================] - 1s 3ms/step - loss: 0.6213 - accuracy: 0.9411 - val_loss: 0.6374 - val_accuracy: 0.9371\n",
            "Epoch 9/30\n",
            "391/391 [==============================] - 1s 4ms/step - loss: 0.6034 - accuracy: 0.9430 - val_loss: 0.5904 - val_accuracy: 0.9451\n",
            "Epoch 10/30\n",
            "391/391 [==============================] - 1s 4ms/step - loss: 0.5872 - accuracy: 0.9457 - val_loss: 0.5596 - val_accuracy: 0.9505\n",
            "Epoch 11/30\n",
            "391/391 [==============================] - 1s 4ms/step - loss: 0.5752 - accuracy: 0.9478 - val_loss: 0.5709 - val_accuracy: 0.9465\n",
            "Epoch 12/30\n",
            "391/391 [==============================] - 2s 4ms/step - loss: 0.5630 - accuracy: 0.9488 - val_loss: 0.5513 - val_accuracy: 0.9504\n",
            "Epoch 13/30\n",
            "391/391 [==============================] - 1s 4ms/step - loss: 0.5522 - accuracy: 0.9494 - val_loss: 0.5564 - val_accuracy: 0.9499\n",
            "Epoch 14/30\n",
            "391/391 [==============================] - 1s 3ms/step - loss: 0.5452 - accuracy: 0.9504 - val_loss: 0.5269 - val_accuracy: 0.9551\n",
            "Epoch 15/30\n",
            "391/391 [==============================] - 1s 3ms/step - loss: 0.5399 - accuracy: 0.9509 - val_loss: 0.5190 - val_accuracy: 0.9591\n",
            "Epoch 16/30\n",
            "391/391 [==============================] - 1s 4ms/step - loss: 0.5311 - accuracy: 0.9540 - val_loss: 0.5312 - val_accuracy: 0.9556\n",
            "Epoch 17/30\n",
            "391/391 [==============================] - 1s 4ms/step - loss: 0.5265 - accuracy: 0.9529 - val_loss: 0.5188 - val_accuracy: 0.9560\n",
            "Epoch 18/30\n",
            "391/391 [==============================] - 2s 4ms/step - loss: 0.5201 - accuracy: 0.9549 - val_loss: 0.5122 - val_accuracy: 0.9559\n",
            "Epoch 19/30\n",
            "391/391 [==============================] - 1s 3ms/step - loss: 0.5149 - accuracy: 0.9555 - val_loss: 0.5115 - val_accuracy: 0.9574\n",
            "Epoch 20/30\n",
            "391/391 [==============================] - 1s 4ms/step - loss: 0.5107 - accuracy: 0.9559 - val_loss: 0.5264 - val_accuracy: 0.9548\n",
            "Epoch 21/30\n",
            "391/391 [==============================] - 1s 3ms/step - loss: 0.5077 - accuracy: 0.9571 - val_loss: 0.4987 - val_accuracy: 0.9597\n",
            "Epoch 22/30\n",
            "391/391 [==============================] - 1s 3ms/step - loss: 0.5055 - accuracy: 0.9562 - val_loss: 0.5283 - val_accuracy: 0.9504\n",
            "Epoch 23/30\n",
            "391/391 [==============================] - 1s 3ms/step - loss: 0.5012 - accuracy: 0.9580 - val_loss: 0.4986 - val_accuracy: 0.9589\n",
            "Epoch 24/30\n",
            "391/391 [==============================] - 1s 4ms/step - loss: 0.4995 - accuracy: 0.9561 - val_loss: 0.5220 - val_accuracy: 0.9534\n",
            "Epoch 25/30\n",
            "391/391 [==============================] - 1s 3ms/step - loss: 0.4969 - accuracy: 0.9565 - val_loss: 0.5021 - val_accuracy: 0.9590\n",
            "Epoch 26/30\n",
            "391/391 [==============================] - 2s 4ms/step - loss: 0.4950 - accuracy: 0.9575 - val_loss: 0.5277 - val_accuracy: 0.9483\n",
            "Epoch 27/30\n",
            "391/391 [==============================] - 2s 5ms/step - loss: 0.4924 - accuracy: 0.9581 - val_loss: 0.4819 - val_accuracy: 0.9605\n",
            "Epoch 28/30\n",
            "391/391 [==============================] - 1s 4ms/step - loss: 0.4873 - accuracy: 0.9596 - val_loss: 0.4866 - val_accuracy: 0.9617\n",
            "Epoch 29/30\n",
            "391/391 [==============================] - 1s 3ms/step - loss: 0.4849 - accuracy: 0.9592 - val_loss: 0.4750 - val_accuracy: 0.9637\n",
            "Epoch 30/30\n",
            "391/391 [==============================] - 1s 3ms/step - loss: 0.4849 - accuracy: 0.9582 - val_loss: 0.5042 - val_accuracy: 0.9537\n"
          ]
        }
      ]
    },
    {
      "cell_type": "code",
      "source": [
        "pinta_perdida_entrenamiento_validacion(historia1)"
      ],
      "metadata": {
        "id": "Vyv3yFtiFitw",
        "colab": {
          "base_uri": "https://localhost:8080/",
          "height": 295
        },
        "outputId": "f5b92b08-a0aa-4d57-b154-2086988a515a"
      },
      "execution_count": 21,
      "outputs": [
        {
          "output_type": "display_data",
          "data": {
            "text/plain": [
              "<Figure size 432x288 with 1 Axes>"
            ],
            "image/png": "[encoded data removed]"
          },
          "metadata": {
            "needs_background": "light"
          }
        }
      ]
    },
    {
      "cell_type": "code",
      "source": [
        "pinta_precision_entrenamiento_validacion(historia1)"
      ],
      "metadata": {
        "id": "pVUerJsqFo7K",
        "colab": {
          "base_uri": "https://localhost:8080/",
          "height": 295
        },
        "outputId": "6249d991-b880-42d0-f1e5-c584e96a3733"
      },
      "execution_count": 22,
      "outputs": [
        {
          "output_type": "display_data",
          "data": {
            "text/plain": [
              "<Figure size 432x288 with 1 Axes>"
            ],
            "image/png": "[encoded data removed]"
          },
          "metadata": {
            "needs_background": "light"
          }
        }
      ]
    },
    {
      "cell_type": "markdown",
      "source": [
        "### Caso 2: Con regularizador l2"
      ],
      "metadata": {
        "id": "hklwKNlMBzya"
      }
    },
    {
      "cell_type": "code",
      "source": [
        "network2 = crea_modelo(2)"
      ],
      "metadata": {
        "id": "tjIs0FziG5Ja",
        "colab": {
          "base_uri": "https://localhost:8080/"
        },
        "outputId": "a713ea9f-e0b7-4691-ae19-91472e6f96a2"
      },
      "execution_count": 23,
      "outputs": [
        {
          "output_type": "stream",
          "name": "stdout",
          "text": [
            "Model: \"sequential_2\"\n",
            "_________________________________________________________________\n",
            " Layer (type)                Output Shape              Param #   \n",
            "=================================================================\n",
            " dense_4 (Dense)             (None, 512)               401920    \n",
            "                                                                 \n",
            " dense_5 (Dense)             (None, 10)                5130      \n",
            "                                                                 \n",
            "=================================================================\n",
            "Total params: 407,050\n",
            "Trainable params: 407,050\n",
            "Non-trainable params: 0\n",
            "_________________________________________________________________\n"
          ]
        }
      ]
    },
    {
      "cell_type": "code",
      "source": [
        "network2 = compila_modelo(network2)"
      ],
      "metadata": {
        "id": "UCdA0K_qyTUq"
      },
      "execution_count": 24,
      "outputs": []
    },
    {
      "cell_type": "code",
      "source": [
        "historia2 = entrena_modelo(network2)"
      ],
      "metadata": {
        "id": "WSuomx5oybpu",
        "colab": {
          "base_uri": "https://localhost:8080/"
        },
        "outputId": "9b321fbb-48b0-4f22-9514-e8f82996ccea"
      },
      "execution_count": 25,
      "outputs": [
        {
          "output_type": "stream",
          "name": "stdout",
          "text": [
            "Epoch 1/30\n",
            "391/391 [==============================] - 2s 4ms/step - loss: 0.5279 - accuracy: 0.9107 - val_loss: 0.3199 - val_accuracy: 0.9489\n",
            "Epoch 2/30\n",
            "391/391 [==============================] - 1s 3ms/step - loss: 0.2654 - accuracy: 0.9541 - val_loss: 0.2183 - val_accuracy: 0.9650\n",
            "Epoch 3/30\n",
            "391/391 [==============================] - 1s 4ms/step - loss: 0.2115 - accuracy: 0.9627 - val_loss: 0.1878 - val_accuracy: 0.9702\n",
            "Epoch 4/30\n",
            "391/391 [==============================] - 2s 4ms/step - loss: 0.1870 - accuracy: 0.9673 - val_loss: 0.1773 - val_accuracy: 0.9704\n",
            "Epoch 5/30\n",
            "391/391 [==============================] - 2s 4ms/step - loss: 0.1755 - accuracy: 0.9694 - val_loss: 0.1943 - val_accuracy: 0.9634\n",
            "Epoch 6/30\n",
            "391/391 [==============================] - 1s 3ms/step - loss: 0.1654 - accuracy: 0.9703 - val_loss: 0.1736 - val_accuracy: 0.9683\n",
            "Epoch 7/30\n",
            "391/391 [==============================] - 1s 3ms/step - loss: 0.1580 - accuracy: 0.9721 - val_loss: 0.1624 - val_accuracy: 0.9720\n",
            "Epoch 8/30\n",
            "391/391 [==============================] - 1s 3ms/step - loss: 0.1523 - accuracy: 0.9733 - val_loss: 0.1735 - val_accuracy: 0.9687\n",
            "Epoch 9/30\n",
            "391/391 [==============================] - 1s 4ms/step - loss: 0.1479 - accuracy: 0.9747 - val_loss: 0.1928 - val_accuracy: 0.9613\n",
            "Epoch 10/30\n",
            "391/391 [==============================] - 1s 3ms/step - loss: 0.1438 - accuracy: 0.9757 - val_loss: 0.1457 - val_accuracy: 0.9760\n",
            "Epoch 11/30\n",
            "391/391 [==============================] - 1s 4ms/step - loss: 0.1401 - accuracy: 0.9760 - val_loss: 0.1506 - val_accuracy: 0.9745\n",
            "Epoch 12/30\n",
            "391/391 [==============================] - 1s 4ms/step - loss: 0.1370 - accuracy: 0.9769 - val_loss: 0.1548 - val_accuracy: 0.9703\n",
            "Epoch 13/30\n",
            "391/391 [==============================] - 2s 4ms/step - loss: 0.1346 - accuracy: 0.9771 - val_loss: 0.1612 - val_accuracy: 0.9687\n",
            "Epoch 14/30\n",
            "391/391 [==============================] - 1s 3ms/step - loss: 0.1316 - accuracy: 0.9778 - val_loss: 0.1574 - val_accuracy: 0.9713\n",
            "Epoch 15/30\n",
            "391/391 [==============================] - 1s 4ms/step - loss: 0.1290 - accuracy: 0.9786 - val_loss: 0.1515 - val_accuracy: 0.9710\n",
            "Epoch 16/30\n",
            "391/391 [==============================] - 2s 4ms/step - loss: 0.1283 - accuracy: 0.9777 - val_loss: 0.1741 - val_accuracy: 0.9663\n",
            "Epoch 17/30\n",
            "391/391 [==============================] - 1s 3ms/step - loss: 0.1263 - accuracy: 0.9790 - val_loss: 0.1380 - val_accuracy: 0.9751\n",
            "Epoch 18/30\n",
            "391/391 [==============================] - 2s 4ms/step - loss: 0.1236 - accuracy: 0.9788 - val_loss: 0.1338 - val_accuracy: 0.9771\n",
            "Epoch 19/30\n",
            "391/391 [==============================] - 2s 4ms/step - loss: 0.1216 - accuracy: 0.9793 - val_loss: 0.1364 - val_accuracy: 0.9764\n",
            "Epoch 20/30\n",
            "391/391 [==============================] - 1s 3ms/step - loss: 0.1201 - accuracy: 0.9799 - val_loss: 0.1408 - val_accuracy: 0.9739\n",
            "Epoch 21/30\n",
            "391/391 [==============================] - 1s 4ms/step - loss: 0.1174 - accuracy: 0.9810 - val_loss: 0.1440 - val_accuracy: 0.9726\n",
            "Epoch 22/30\n",
            "391/391 [==============================] - 2s 4ms/step - loss: 0.1153 - accuracy: 0.9807 - val_loss: 0.1590 - val_accuracy: 0.9685\n",
            "Epoch 23/30\n",
            "391/391 [==============================] - 2s 4ms/step - loss: 0.1156 - accuracy: 0.9810 - val_loss: 0.1386 - val_accuracy: 0.9754\n",
            "Epoch 24/30\n",
            "391/391 [==============================] - 1s 3ms/step - loss: 0.1159 - accuracy: 0.9807 - val_loss: 0.1372 - val_accuracy: 0.9753\n",
            "Epoch 25/30\n",
            "391/391 [==============================] - 2s 4ms/step - loss: 0.1140 - accuracy: 0.9807 - val_loss: 0.1301 - val_accuracy: 0.9789\n",
            "Epoch 26/30\n",
            "391/391 [==============================] - 2s 4ms/step - loss: 0.1116 - accuracy: 0.9816 - val_loss: 0.1332 - val_accuracy: 0.9769\n",
            "Epoch 27/30\n",
            "391/391 [==============================] - 1s 3ms/step - loss: 0.1127 - accuracy: 0.9815 - val_loss: 0.1303 - val_accuracy: 0.9787\n",
            "Epoch 28/30\n",
            "391/391 [==============================] - 1s 3ms/step - loss: 0.1106 - accuracy: 0.9820 - val_loss: 0.1293 - val_accuracy: 0.9773\n",
            "Epoch 29/30\n",
            "391/391 [==============================] - 1s 3ms/step - loss: 0.1078 - accuracy: 0.9822 - val_loss: 0.1423 - val_accuracy: 0.9725\n",
            "Epoch 30/30\n",
            "391/391 [==============================] - 1s 3ms/step - loss: 0.1094 - accuracy: 0.9821 - val_loss: 0.1304 - val_accuracy: 0.9772\n"
          ]
        }
      ]
    },
    {
      "cell_type": "code",
      "source": [
        "pinta_perdida_entrenamiento_validacion(historia2)"
      ],
      "metadata": {
        "id": "aXXzm8tpyj6X",
        "colab": {
          "base_uri": "https://localhost:8080/",
          "height": 295
        },
        "outputId": "40e33910-6474-47db-e78f-c0047729b459"
      },
      "execution_count": 26,
      "outputs": [
        {
          "output_type": "display_data",
          "data": {
            "text/plain": [
              "<Figure size 432x288 with 1 Axes>"
            ],
            "image/png": "[encoded data removed]"
          },
          "metadata": {
            "needs_background": "light"
          }
        }
      ]
    },
    {
      "cell_type": "code",
      "source": [
        "pinta_precision_entrenamiento_validacion(historia2)"
      ],
      "metadata": {
        "id": "CLTsg5LTypH9",
        "colab": {
          "base_uri": "https://localhost:8080/",
          "height": 295
        },
        "outputId": "d8117dbb-b345-48ea-b50d-5bd0915a349b"
      },
      "execution_count": 27,
      "outputs": [
        {
          "output_type": "display_data",
          "data": {
            "text/plain": [
              "<Figure size 432x288 with 1 Axes>"
            ],
            "image/png": "[encoded data removed]"
          },
          "metadata": {
            "needs_background": "light"
          }
        }
      ]
    },
    {
      "cell_type": "markdown",
      "source": [
        "### Caso 3: Con regularizador l1_l2"
      ],
      "metadata": {
        "id": "692oWz8oB82n"
      }
    },
    {
      "cell_type": "code",
      "source": [
        "network3 = crea_modelo(3)"
      ],
      "metadata": {
        "id": "5fdxkjoKzFcu",
        "colab": {
          "base_uri": "https://localhost:8080/"
        },
        "outputId": "1c490463-b260-465a-d851-a76c389d082b"
      },
      "execution_count": 44,
      "outputs": [
        {
          "output_type": "stream",
          "name": "stdout",
          "text": [
            "Model: \"sequential_10\"\n",
            "_________________________________________________________________\n",
            " Layer (type)                Output Shape              Param #   \n",
            "=================================================================\n",
            " dense_14 (Dense)            (None, 512)               401920    \n",
            "                                                                 \n",
            " dense_15 (Dense)            (None, 10)                5130      \n",
            "                                                                 \n",
            "=================================================================\n",
            "Total params: 407,050\n",
            "Trainable params: 407,050\n",
            "Non-trainable params: 0\n",
            "_________________________________________________________________\n"
          ]
        }
      ]
    },
    {
      "cell_type": "code",
      "source": [
        "network3 = compila_modelo(network3)"
      ],
      "metadata": {
        "id": "VJzs9A2yzPhx"
      },
      "execution_count": 45,
      "outputs": []
    },
    {
      "cell_type": "code",
      "source": [
        "historia3 = entrena_modelo(network3)"
      ],
      "metadata": {
        "id": "1JCUbcCQzY6E",
        "colab": {
          "base_uri": "https://localhost:8080/"
        },
        "outputId": "621bcf20-7216-480d-ade7-2c813fc04d43"
      },
      "execution_count": 46,
      "outputs": [
        {
          "output_type": "stream",
          "name": "stdout",
          "text": [
            "Epoch 1/30\n",
            "391/391 [==============================] - 2s 4ms/step - loss: 2.1840 - accuracy: 0.8390 - val_loss: 1.1536 - val_accuracy: 0.8503\n",
            "Epoch 2/30\n",
            "391/391 [==============================] - 2s 4ms/step - loss: 0.9916 - accuracy: 0.8734 - val_loss: 0.8413 - val_accuracy: 0.9149\n",
            "Epoch 3/30\n",
            "391/391 [==============================] - 2s 4ms/step - loss: 0.8734 - accuracy: 0.8957 - val_loss: 0.8112 - val_accuracy: 0.9116\n",
            "Epoch 4/30\n",
            "391/391 [==============================] - 1s 3ms/step - loss: 0.8060 - accuracy: 0.9078 - val_loss: 0.7616 - val_accuracy: 0.9217\n",
            "Epoch 5/30\n",
            "391/391 [==============================] - 1s 3ms/step - loss: 0.7542 - accuracy: 0.9177 - val_loss: 0.7094 - val_accuracy: 0.9345\n",
            "Epoch 6/30\n",
            "391/391 [==============================] - 1s 3ms/step - loss: 0.7162 - accuracy: 0.9236 - val_loss: 0.7646 - val_accuracy: 0.9008\n",
            "Epoch 7/30\n",
            "391/391 [==============================] - 1s 3ms/step - loss: 0.6855 - accuracy: 0.9284 - val_loss: 0.6608 - val_accuracy: 0.9372\n",
            "Epoch 8/30\n",
            "391/391 [==============================] - 2s 4ms/step - loss: 0.6598 - accuracy: 0.9333 - val_loss: 0.6901 - val_accuracy: 0.9209\n",
            "Epoch 9/30\n",
            "391/391 [==============================] - 2s 5ms/step - loss: 0.6417 - accuracy: 0.9358 - val_loss: 0.6283 - val_accuracy: 0.9419\n",
            "Epoch 10/30\n",
            "391/391 [==============================] - 1s 3ms/step - loss: 0.6256 - accuracy: 0.9382 - val_loss: 0.6104 - val_accuracy: 0.9447\n",
            "Epoch 11/30\n",
            "391/391 [==============================] - 1s 4ms/step - loss: 0.6107 - accuracy: 0.9415 - val_loss: 0.5827 - val_accuracy: 0.9501\n",
            "Epoch 12/30\n",
            "391/391 [==============================] - 1s 3ms/step - loss: 0.5986 - accuracy: 0.9434 - val_loss: 0.6036 - val_accuracy: 0.9415\n",
            "Epoch 13/30\n",
            "391/391 [==============================] - 1s 3ms/step - loss: 0.5905 - accuracy: 0.9437 - val_loss: 0.5556 - val_accuracy: 0.9551\n",
            "Epoch 14/30\n",
            "391/391 [==============================] - 1s 4ms/step - loss: 0.5799 - accuracy: 0.9465 - val_loss: 0.5554 - val_accuracy: 0.9559\n",
            "Epoch 15/30\n",
            "391/391 [==============================] - 1s 3ms/step - loss: 0.5730 - accuracy: 0.9470 - val_loss: 0.5779 - val_accuracy: 0.9446\n",
            "Epoch 16/30\n",
            "391/391 [==============================] - 1s 4ms/step - loss: 0.5646 - accuracy: 0.9477 - val_loss: 0.5946 - val_accuracy: 0.9423\n",
            "Epoch 17/30\n",
            "391/391 [==============================] - 1s 3ms/step - loss: 0.5586 - accuracy: 0.9493 - val_loss: 0.5319 - val_accuracy: 0.9575\n",
            "Epoch 18/30\n",
            "391/391 [==============================] - 1s 4ms/step - loss: 0.5551 - accuracy: 0.9500 - val_loss: 0.5662 - val_accuracy: 0.9515\n",
            "Epoch 19/30\n",
            "391/391 [==============================] - 1s 3ms/step - loss: 0.5478 - accuracy: 0.9501 - val_loss: 0.5678 - val_accuracy: 0.9438\n",
            "Epoch 20/30\n",
            "391/391 [==============================] - 1s 3ms/step - loss: 0.5439 - accuracy: 0.9507 - val_loss: 0.6093 - val_accuracy: 0.9278\n",
            "Epoch 21/30\n",
            "391/391 [==============================] - 1s 3ms/step - loss: 0.5389 - accuracy: 0.9522 - val_loss: 0.5289 - val_accuracy: 0.9559\n",
            "Epoch 22/30\n",
            "391/391 [==============================] - 1s 3ms/step - loss: 0.5351 - accuracy: 0.9525 - val_loss: 0.5282 - val_accuracy: 0.9585\n",
            "Epoch 23/30\n",
            "391/391 [==============================] - 1s 3ms/step - loss: 0.5322 - accuracy: 0.9520 - val_loss: 0.5189 - val_accuracy: 0.9600\n",
            "Epoch 24/30\n",
            "391/391 [==============================] - 1s 3ms/step - loss: 0.5287 - accuracy: 0.9531 - val_loss: 0.5207 - val_accuracy: 0.9515\n",
            "Epoch 25/30\n",
            "391/391 [==============================] - 1s 3ms/step - loss: 0.5270 - accuracy: 0.9544 - val_loss: 0.5068 - val_accuracy: 0.9612\n",
            "Epoch 26/30\n",
            "391/391 [==============================] - 1s 4ms/step - loss: 0.5215 - accuracy: 0.9546 - val_loss: 0.5497 - val_accuracy: 0.9439\n",
            "Epoch 27/30\n",
            "391/391 [==============================] - 1s 3ms/step - loss: 0.5189 - accuracy: 0.9542 - val_loss: 0.5626 - val_accuracy: 0.9421\n",
            "Epoch 28/30\n",
            "391/391 [==============================] - 2s 4ms/step - loss: 0.5151 - accuracy: 0.9558 - val_loss: 0.5242 - val_accuracy: 0.9508\n",
            "Epoch 29/30\n",
            "391/391 [==============================] - 1s 4ms/step - loss: 0.5125 - accuracy: 0.9553 - val_loss: 0.5255 - val_accuracy: 0.9543\n",
            "Epoch 30/30\n",
            "391/391 [==============================] - 1s 3ms/step - loss: 0.5111 - accuracy: 0.9551 - val_loss: 0.4843 - val_accuracy: 0.9636\n"
          ]
        }
      ]
    },
    {
      "cell_type": "code",
      "source": [
        "pinta_perdida_entrenamiento_validacion(historia3)"
      ],
      "metadata": {
        "id": "I8XzPVtyze8y",
        "colab": {
          "base_uri": "https://localhost:8080/",
          "height": 295
        },
        "outputId": "b641b1b3-eb5b-4787-fb39-d5353a4a6e27"
      },
      "execution_count": 47,
      "outputs": [
        {
          "output_type": "display_data",
          "data": {
            "text/plain": [
              "<Figure size 432x288 with 1 Axes>"
            ],
            "image/png": "[encoded data removed]"
          },
          "metadata": {
            "needs_background": "light"
          }
        }
      ]
    },
    {
      "cell_type": "code",
      "source": [
        "pinta_precision_entrenamiento_validacion(historia3)"
      ],
      "metadata": {
        "id": "nKk7AmM8zi3A",
        "colab": {
          "base_uri": "https://localhost:8080/",
          "height": 295
        },
        "outputId": "497fe279-e47d-4434-f326-b748d81040cb"
      },
      "execution_count": 48,
      "outputs": [
        {
          "output_type": "display_data",
          "data": {
            "text/plain": [
              "<Figure size 432x288 with 1 Axes>"
            ],
            "image/png": "[encoded data removed]"
          },
          "metadata": {
            "needs_background": "light"
          }
        }
      ]
    },
    {
      "cell_type": "markdown",
      "source": [
        "### Caso 4: Con Droput"
      ],
      "metadata": {
        "id": "OPVcbgcXCFRL"
      }
    },
    {
      "cell_type": "code",
      "source": [
        "network4 = crea_modelo(4)"
      ],
      "metadata": {
        "id": "5MVbUNX11Pgr",
        "colab": {
          "base_uri": "https://localhost:8080/"
        },
        "outputId": "ce85be80-34de-4c15-898c-16cc2b9f7949"
      },
      "execution_count": 49,
      "outputs": [
        {
          "output_type": "stream",
          "name": "stdout",
          "text": [
            "Model: \"sequential_11\"\n",
            "_________________________________________________________________\n",
            " Layer (type)                Output Shape              Param #   \n",
            "=================================================================\n",
            " dense_16 (Dense)            (None, 512)               401920    \n",
            "                                                                 \n",
            " dropout_1 (Dropout)         (None, 512)               0         \n",
            "                                                                 \n",
            " dense_17 (Dense)            (None, 10)                5130      \n",
            "                                                                 \n",
            "=================================================================\n",
            "Total params: 407,050\n",
            "Trainable params: 407,050\n",
            "Non-trainable params: 0\n",
            "_________________________________________________________________\n"
          ]
        }
      ]
    },
    {
      "cell_type": "code",
      "source": [
        "network4 = compila_modelo(network4)"
      ],
      "metadata": {
        "id": "pT-13IKI1UpW"
      },
      "execution_count": 50,
      "outputs": []
    },
    {
      "cell_type": "code",
      "source": [
        "historia4 = entrena_modelo(network4)"
      ],
      "metadata": {
        "id": "kNWidx1S1aCH",
        "colab": {
          "base_uri": "https://localhost:8080/"
        },
        "outputId": "c7849599-31ee-415b-9367-d748714b831f"
      },
      "execution_count": 51,
      "outputs": [
        {
          "output_type": "stream",
          "name": "stdout",
          "text": [
            "Epoch 1/30\n",
            "391/391 [==============================] - 2s 4ms/step - loss: 0.3489 - accuracy: 0.8977 - val_loss: 0.1576 - val_accuracy: 0.9563\n",
            "Epoch 2/30\n",
            "391/391 [==============================] - 2s 4ms/step - loss: 0.1664 - accuracy: 0.9505 - val_loss: 0.1186 - val_accuracy: 0.9669\n",
            "Epoch 3/30\n",
            "391/391 [==============================] - 1s 3ms/step - loss: 0.1276 - accuracy: 0.9617 - val_loss: 0.0966 - val_accuracy: 0.9716\n",
            "Epoch 4/30\n",
            "391/391 [==============================] - 1s 3ms/step - loss: 0.1062 - accuracy: 0.9685 - val_loss: 0.0889 - val_accuracy: 0.9739\n",
            "Epoch 5/30\n",
            "391/391 [==============================] - 2s 4ms/step - loss: 0.0915 - accuracy: 0.9725 - val_loss: 0.0842 - val_accuracy: 0.9770\n",
            "Epoch 6/30\n",
            "391/391 [==============================] - 1s 4ms/step - loss: 0.0822 - accuracy: 0.9755 - val_loss: 0.0825 - val_accuracy: 0.9772\n",
            "Epoch 7/30\n",
            "391/391 [==============================] - 1s 3ms/step - loss: 0.0743 - accuracy: 0.9774 - val_loss: 0.0800 - val_accuracy: 0.9769\n",
            "Epoch 8/30\n",
            "391/391 [==============================] - 1s 4ms/step - loss: 0.0681 - accuracy: 0.9797 - val_loss: 0.0769 - val_accuracy: 0.9784\n",
            "Epoch 9/30\n",
            "391/391 [==============================] - 1s 4ms/step - loss: 0.0628 - accuracy: 0.9815 - val_loss: 0.0761 - val_accuracy: 0.9791\n",
            "Epoch 10/30\n",
            "391/391 [==============================] - 1s 4ms/step - loss: 0.0588 - accuracy: 0.9827 - val_loss: 0.0776 - val_accuracy: 0.9794\n",
            "Epoch 11/30\n",
            "391/391 [==============================] - 1s 3ms/step - loss: 0.0544 - accuracy: 0.9836 - val_loss: 0.0762 - val_accuracy: 0.9808\n",
            "Epoch 12/30\n",
            "391/391 [==============================] - 2s 4ms/step - loss: 0.0520 - accuracy: 0.9847 - val_loss: 0.0774 - val_accuracy: 0.9793\n",
            "Epoch 13/30\n",
            "391/391 [==============================] - 1s 3ms/step - loss: 0.0493 - accuracy: 0.9849 - val_loss: 0.0764 - val_accuracy: 0.9815\n",
            "Epoch 14/30\n",
            "391/391 [==============================] - 1s 3ms/step - loss: 0.0473 - accuracy: 0.9857 - val_loss: 0.0777 - val_accuracy: 0.9809\n",
            "Epoch 15/30\n",
            "391/391 [==============================] - 1s 4ms/step - loss: 0.0443 - accuracy: 0.9865 - val_loss: 0.0791 - val_accuracy: 0.9819\n",
            "Epoch 16/30\n",
            "391/391 [==============================] - 1s 3ms/step - loss: 0.0428 - accuracy: 0.9871 - val_loss: 0.0863 - val_accuracy: 0.9808\n",
            "Epoch 17/30\n",
            "391/391 [==============================] - 1s 4ms/step - loss: 0.0407 - accuracy: 0.9879 - val_loss: 0.0807 - val_accuracy: 0.9809\n",
            "Epoch 18/30\n",
            "391/391 [==============================] - 1s 4ms/step - loss: 0.0380 - accuracy: 0.9885 - val_loss: 0.0877 - val_accuracy: 0.9819\n",
            "Epoch 19/30\n",
            "391/391 [==============================] - 2s 4ms/step - loss: 0.0396 - accuracy: 0.9882 - val_loss: 0.0825 - val_accuracy: 0.9823\n",
            "Epoch 20/30\n",
            "391/391 [==============================] - 1s 3ms/step - loss: 0.0375 - accuracy: 0.9887 - val_loss: 0.0820 - val_accuracy: 0.9816\n",
            "Epoch 21/30\n",
            "391/391 [==============================] - 1s 3ms/step - loss: 0.0341 - accuracy: 0.9899 - val_loss: 0.0835 - val_accuracy: 0.9827\n",
            "Epoch 22/30\n",
            "391/391 [==============================] - 1s 4ms/step - loss: 0.0344 - accuracy: 0.9897 - val_loss: 0.0884 - val_accuracy: 0.9818\n",
            "Epoch 23/30\n",
            "391/391 [==============================] - 1s 4ms/step - loss: 0.0323 - accuracy: 0.9900 - val_loss: 0.0884 - val_accuracy: 0.9825\n",
            "Epoch 24/30\n",
            "391/391 [==============================] - 2s 4ms/step - loss: 0.0316 - accuracy: 0.9903 - val_loss: 0.0886 - val_accuracy: 0.9824\n",
            "Epoch 25/30\n",
            "391/391 [==============================] - 1s 4ms/step - loss: 0.0285 - accuracy: 0.9910 - val_loss: 0.0921 - val_accuracy: 0.9817\n",
            "Epoch 26/30\n",
            "391/391 [==============================] - 1s 3ms/step - loss: 0.0289 - accuracy: 0.9912 - val_loss: 0.0979 - val_accuracy: 0.9815\n",
            "Epoch 27/30\n",
            "391/391 [==============================] - 1s 4ms/step - loss: 0.0269 - accuracy: 0.9922 - val_loss: 0.0896 - val_accuracy: 0.9822\n",
            "Epoch 28/30\n",
            "391/391 [==============================] - 1s 4ms/step - loss: 0.0276 - accuracy: 0.9918 - val_loss: 0.0945 - val_accuracy: 0.9820\n",
            "Epoch 29/30\n",
            "391/391 [==============================] - 1s 3ms/step - loss: 0.0280 - accuracy: 0.9922 - val_loss: 0.0933 - val_accuracy: 0.9826\n",
            "Epoch 30/30\n",
            "391/391 [==============================] - 1s 3ms/step - loss: 0.0257 - accuracy: 0.9920 - val_loss: 0.0930 - val_accuracy: 0.9818\n"
          ]
        }
      ]
    },
    {
      "cell_type": "code",
      "source": [
        "pinta_perdida_entrenamiento_validacion(historia4)"
      ],
      "metadata": {
        "id": "R9pI34Yr1gBO",
        "colab": {
          "base_uri": "https://localhost:8080/",
          "height": 295
        },
        "outputId": "090fd0ca-1c61-46fa-9c4e-da6cdb244606"
      },
      "execution_count": 52,
      "outputs": [
        {
          "output_type": "display_data",
          "data": {
            "text/plain": [
              "<Figure size 432x288 with 1 Axes>"
            ],
            "image/png": "[encoded data removed]"
          },
          "metadata": {
            "needs_background": "light"
          }
        }
      ]
    },
    {
      "cell_type": "code",
      "source": [
        "pinta_precision_entrenamiento_validacion(historia4)"
      ],
      "metadata": {
        "id": "EwEIEOKx1lQr",
        "colab": {
          "base_uri": "https://localhost:8080/",
          "height": 295
        },
        "outputId": "5284c87b-ba95-4fe0-a07e-6253eb16de4a"
      },
      "execution_count": 53,
      "outputs": [
        {
          "output_type": "display_data",
          "data": {
            "text/plain": [
              "<Figure size 432x288 with 1 Axes>"
            ],
            "image/png": "[encoded data removed]"
          },
          "metadata": {
            "needs_background": "light"
          }
        }
      ]
    },
    {
      "cell_type": "markdown",
      "source": [
        "### Caso 5: Error de código de regularizador"
      ],
      "metadata": {
        "id": "e6rlKx2nCOgU"
      }
    },
    {
      "cell_type": "code",
      "source": [
        "network5 = crea_modelo(5)"
      ],
      "metadata": {
        "id": "SqGDm8VM1rwR",
        "outputId": "0a0d5793-b842-4c79-e810-35844f92b771",
        "colab": {
          "base_uri": "https://localhost:8080/"
        }
      },
      "execution_count": 43,
      "outputs": [
        {
          "output_type": "stream",
          "name": "stdout",
          "text": [
            "Error no es ninguno de estos valores \n",
            " \n"
          ]
        }
      ]
    },
    {
      "cell_type": "markdown",
      "source": [
        "### CONCLUSIONES"
      ],
      "metadata": {
        "id": "IklUu29cCcVe"
      }
    },
    {
      "cell_type": "markdown",
      "source": [
        "En primer modelo aprende muy bien, aunque hay un poco de overfitting\n",
        "El segundo caso funciona un poco mejor que el segundo caso funciona mejor que en el primer caso\n",
        "\n",
        "\n",
        "---\n",
        "\n"
      ],
      "metadata": {
        "id": "cB_OYjjaChzN"
      }
    }
  ]
}